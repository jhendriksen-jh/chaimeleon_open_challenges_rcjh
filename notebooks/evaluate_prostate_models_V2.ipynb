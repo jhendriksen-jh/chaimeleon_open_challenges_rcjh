{
 "cells": [
  {
   "cell_type": "code",
   "execution_count": 1,
   "id": "7e4d6469-3f3b-4c4c-aa29-7bf97850bf17",
   "metadata": {},
   "outputs": [],
   "source": [
    "import sys\n",
    "\n",
    "sys.path.append(\"../\")\n",
    "from library.datasets import ProstateCancerDataset\n",
    "from library.train import create_dataloader\n",
    "from entrypoint import prostate_scoring_function\n",
    "import matplotlib.pyplot as plt\n",
    "import torch\n",
    "from library.models import *\n",
    "import random\n",
    "import glob\n",
    "from icecream import ic\n",
    "import copy\n",
    "import pprint\n",
    "from tqdm.auto import tqdm\n",
    "import pandas as pd"
   ]
  },
  {
   "cell_type": "code",
   "execution_count": 2,
   "id": "2813a4e9-6e6c-4b31-88fd-0f1c404a44db",
   "metadata": {},
   "outputs": [],
   "source": [
    "best_prostate_models_combined = [\n",
    "    i\n",
    "    for i in glob.glob(\n",
    "        \"../tuning_exp_training_details/pretrained_model_raw_metadata/*Combined*/**/*.pt\",\n",
    "        recursive=True,\n",
    "    )\n",
    "]\n",
    "best_prostate_models_combined.extend([i for i in glob.glob(\"../mega_tuning_exp_training_details/**/*.pt\",\n",
    "        recursive=True,\n",
    "    )])"
   ]
  },
  {
   "cell_type": "code",
   "execution_count": 3,
   "id": "8cc461bc-22ad-456b-ad84-0ea4b49db53b",
   "metadata": {},
   "outputs": [
    {
     "data": {
      "text/plain": [
       "548"
      ]
     },
     "execution_count": 3,
     "metadata": {},
     "output_type": "execute_result"
    }
   ],
   "source": [
    "len(best_prostate_models_combined)"
   ]
  },
  {
   "cell_type": "code",
   "execution_count": 4,
   "id": "c4810305-46bf-4e55-9ac6-115b8371600b",
   "metadata": {},
   "outputs": [
    {
     "data": {
      "application/vnd.jupyter.widget-view+json": {
       "model_id": "de704655b49f4ae29b09bfc5115bbe69",
       "version_major": 2,
       "version_minor": 0
      },
      "text/plain": [
       "Adding raw case data to ChaimeleonDataset:   0%|          | 0/294 [00:00<?, ?it/s]"
      ]
     },
     "metadata": {},
     "output_type": "display_data"
    },
    {
     "data": {
      "application/vnd.jupyter.widget-view+json": {
       "model_id": "9888e496776449df955d16558a85e40f",
       "version_major": 2,
       "version_minor": 0
      },
      "text/plain": [
       "average image value:   0%|          | 0/294 [00:00<?, ?it/s]"
      ]
     },
     "metadata": {},
     "output_type": "display_data"
    },
    {
     "data": {
      "application/vnd.jupyter.widget-view+json": {
       "model_id": "82eb548d4a4345aa8e0790ff8ae944cf",
       "version_major": 2,
       "version_minor": 0
      },
      "text/plain": [
       "Adding raw case data to ChaimeleonDataset:   0%|          | 0/294 [00:00<?, ?it/s]"
      ]
     },
     "metadata": {},
     "output_type": "display_data"
    },
    {
     "data": {
      "application/vnd.jupyter.widget-view+json": {
       "model_id": "86091efcf6a247e6b0d874ebff7f169e",
       "version_major": 2,
       "version_minor": 0
      },
      "text/plain": [
       "average image value:   0%|          | 0/294 [00:00<?, ?it/s]"
      ]
     },
     "metadata": {},
     "output_type": "display_data"
    },
    {
     "data": {
      "application/vnd.jupyter.widget-view+json": {
       "model_id": "9e21b09a51eb40b1abd79ec1aadd181e",
       "version_major": 2,
       "version_minor": 0
      },
      "text/plain": [
       "Adding raw case data to ChaimeleonDataset:   0%|          | 0/294 [00:00<?, ?it/s]"
      ]
     },
     "metadata": {},
     "output_type": "display_data"
    },
    {
     "data": {
      "application/vnd.jupyter.widget-view+json": {
       "model_id": "31f7b11eeafe4336bf8e73117b3fba35",
       "version_major": 2,
       "version_minor": 0
      },
      "text/plain": [
       "average image value:   0%|          | 0/294 [00:00<?, ?it/s]"
      ]
     },
     "metadata": {},
     "output_type": "display_data"
    },
    {
     "data": {
      "application/vnd.jupyter.widget-view+json": {
       "model_id": "2526521b6ec04004a7fa2040dc2b4dcf",
       "version_major": 2,
       "version_minor": 0
      },
      "text/plain": [
       "Adding raw case data to ChaimeleonDataset:   0%|          | 0/294 [00:00<?, ?it/s]"
      ]
     },
     "metadata": {},
     "output_type": "display_data"
    },
    {
     "data": {
      "application/vnd.jupyter.widget-view+json": {
       "model_id": "9dd5499e31604f8287eb0526780bdc4d",
       "version_major": 2,
       "version_minor": 0
      },
      "text/plain": [
       "average image value:   0%|          | 0/294 [00:00<?, ?it/s]"
      ]
     },
     "metadata": {},
     "output_type": "display_data"
    },
    {
     "data": {
      "application/vnd.jupyter.widget-view+json": {
       "model_id": "870532178cb14991b1f5d80271333e97",
       "version_major": 2,
       "version_minor": 0
      },
      "text/plain": [
       "Adding raw case data to ChaimeleonDataset:   0%|          | 0/294 [00:00<?, ?it/s]"
      ]
     },
     "metadata": {},
     "output_type": "display_data"
    },
    {
     "data": {
      "application/vnd.jupyter.widget-view+json": {
       "model_id": "8b765a42cbbd4f5f905a9db6980c601f",
       "version_major": 2,
       "version_minor": 0
      },
      "text/plain": [
       "average image value:   0%|          | 0/294 [00:00<?, ?it/s]"
      ]
     },
     "metadata": {},
     "output_type": "display_data"
    }
   ],
   "source": [
    "prostate_dir = \"../datasets/train_prostate/train/\"\n",
    "random_seed = 24042\n",
    "\n",
    "val_dataset = ProstateCancerDataset(\n",
    "    prostate_dir,\n",
    "    split_type=\"val\",\n",
    "    random_seed=random_seed,\n",
    "    input_slice_count=3,\n",
    ")\n",
    "test_dataset = ProstateCancerDataset(\n",
    "    prostate_dir, split_type=\"test\", random_seed=random_seed, input_slice_count=3\n",
    ")\n",
    "test_dataset_avg_fill = ProstateCancerDataset(\n",
    "    prostate_dir, split_type=\"test\", random_seed=random_seed, input_slice_count=3, avg_fill=True\n",
    ")\n",
    "test_dataset_extreme = ProstateCancerDataset(\n",
    "    prostate_dir, split_type=\"test_extreme\", random_seed=random_seed, input_slice_count=3,\n",
    ")\n",
    "test_dataset_extreme_avg_fill = ProstateCancerDataset(\n",
    "    prostate_dir, split_type=\"test_extreme\", random_seed=random_seed, input_slice_count=3, avg_fill=True\n",
    ")"
   ]
  },
  {
   "cell_type": "code",
   "execution_count": 5,
   "id": "98889f44-a82f-44e2-acc8-3b940bf83c2f",
   "metadata": {},
   "outputs": [],
   "source": [
    "val_loader = create_dataloader(val_dataset, batch_size=6, shuffle=False)\n",
    "test_loader = create_dataloader(test_dataset, batch_size=6, shuffle=False)\n",
    "test_avg_fil_loader = create_dataloader(test_dataset_avg_fill, batch_size=6, shuffle=False)\n",
    "test_extreme_loader = create_dataloader(test_dataset_extreme, batch_size=6, shuffle=False)\n",
    "test_extreme_avg_fil_loader = create_dataloader(test_dataset_extreme_avg_fill, batch_size=6, shuffle=False)"
   ]
  },
  {
   "cell_type": "code",
   "execution_count": 6,
   "id": "c456ac6d-20c5-4279-a5c9-0f1a6caa821d",
   "metadata": {},
   "outputs": [],
   "source": [
    "model_path_to_base = {\n",
    "    \"ProstateCombinedResnet18PretrainedModel.pt\": ProstateCombinedResnet18PretrainedModel(),\n",
    "    \"ProstateCombinedResnet18PretrainedModel_V2_Grid.pt\": ProstateCombinedResnet18PretrainedModel_V2_Grid(),\n",
    "    \"ProstateCombinedResnet18PretrainedModel_V2_1_Grid.pt\": ProstateCombinedResnet18PretrainedModel_V2_1_Grid(),\n",
    "}\n",
    "prostate_model_base = model_path_to_base[\n",
    "    \"_\".join(best_prostate_models_combined[0].split(\"/\")[-1].split(\"_\")[3:])\n",
    "]"
   ]
  },
  {
   "cell_type": "code",
   "execution_count": 7,
   "id": "5fab096f-59d9-4ea7-9cff-739715613dc8",
   "metadata": {},
   "outputs": [],
   "source": [
    "# load model\n",
    "model_state_dict = torch.load(best_prostate_models_combined[0])\n",
    "model = copy.deepcopy(prostate_model_base)\n",
    "model.load_state_dict(model_state_dict)\n",
    "model = model.eval()"
   ]
  },
  {
   "cell_type": "code",
   "execution_count": 8,
   "id": "b0d196c2-dc3e-4b46-9a2c-b7d53c0d466f",
   "metadata": {},
   "outputs": [],
   "source": [
    "# Prostate models loop\n",
    "epoch_targets = []\n",
    "epoch_preds = []\n",
    "epoch_outputs = []\n",
    "for batch_idx, (images, metadata, targets) in enumerate(val_loader):\n",
    "    data = images, metadata.squeeze()\n",
    "    if isinstance(targets, list):\n",
    "        pfs = targets[1]\n",
    "        targets = targets[0]\n",
    "    else:\n",
    "        targets = targets\n",
    "    output = model(data)\n",
    "    pred = output.argmax(dim=1, keepdim=True)\n",
    "\n",
    "    targets, output, pred = (\n",
    "        targets.argmax(dim=1, keepdim=True),\n",
    "        torch.nn.functional.sigmoid(output),\n",
    "        pred,\n",
    "    )\n",
    "\n",
    "    epoch_targets.extend([i.item() for i in targets])\n",
    "    epoch_preds.extend([i.item() for i in pred])\n",
    "    epoch_outputs.extend([output[k][1].item() for k, i in enumerate(targets)])\n",
    "\n",
    "score, score_dict = prostate_scoring_function(epoch_targets, epoch_outputs, epoch_preds)"
   ]
  },
  {
   "cell_type": "code",
   "execution_count": 9,
   "id": "330f48cf-38e5-4ee9-9e66-c7237ab98e51",
   "metadata": {},
   "outputs": [
    {
     "name": "stdout",
     "output_type": "stream",
     "text": [
      "'../tuning_exp_training_details/pretrained_model_raw_metadata/ProstateCombinedResnet18PretrainedModel_V2_Grid/2023-12-18T00-34-26/fixed_augmentation_less_extreme/[]_frozen/0.0005_starting_learning_rate_0.5_factor/best_val_acc_ProstateCombinedResnet18PretrainedModel_V2_Grid.pt'\n",
      "{'auc_chai': 0.5416666666666666,\n",
      " 'balanced_accuracy': 0.5416666666666666,\n",
      " 'roc_auc': 0.5656565656565657,\n",
      " 'score': 0.5416666666666667,\n",
      " 'sensitivity': 0.08333333333333333,\n",
      " 'sensitivity_recall': 0.08333333333333333,\n",
      " 'specificity': 1.0}\n"
     ]
    }
   ],
   "source": [
    "pprint.pprint(best_prostate_models_combined[0])\n",
    "pprint.pprint(score_dict)"
   ]
  },
  {
   "cell_type": "code",
   "execution_count": 10,
   "id": "f25193f7-2b9a-41ba-8152-d1a1ca5b8378",
   "metadata": {},
   "outputs": [],
   "source": [
    "def load_saved_model(model_path, model_base):\n",
    "    model_state_dict = torch.load(model_path)\n",
    "    model = copy.deepcopy(model_base)\n",
    "    model.load_state_dict(model_state_dict)\n",
    "    model = model.eval()\n",
    "\n",
    "    return model"
   ]
  },
  {
   "cell_type": "code",
   "execution_count": 11,
   "id": "6ec8b734-9558-4d51-be54-f7e5339d86a7",
   "metadata": {},
   "outputs": [],
   "source": [
    "def evaluate_prostate_model(\n",
    "    eval_dataloader, model_path, model_base, verbose=False, eval_id=None\n",
    "):\n",
    "    model = load_saved_model(model_path, model_base)\n",
    "\n",
    "    epoch_targets = []\n",
    "    epoch_preds = []\n",
    "    epoch_outputs = []\n",
    "    for batch_idx, (images, metadata, targets) in enumerate(eval_dataloader):\n",
    "        data = images, metadata.squeeze()\n",
    "        if isinstance(targets, list):\n",
    "            pfs = targets[1]\n",
    "            targets = targets[0]\n",
    "        else:\n",
    "            targets = targets\n",
    "        output = model(data)\n",
    "        pred = output.argmax(dim=1, keepdim=True)\n",
    "\n",
    "        targets, output, pred = (\n",
    "            targets.argmax(dim=1, keepdim=True),\n",
    "            torch.nn.functional.sigmoid(output),\n",
    "            pred,\n",
    "        )\n",
    "\n",
    "        epoch_targets.extend([i.item() for i in targets])\n",
    "        epoch_preds.extend([i.item() for i in pred])\n",
    "        epoch_outputs.extend([output[k][1].item() for k, i in enumerate(targets)])\n",
    "\n",
    "    score, score_dict = prostate_scoring_function(\n",
    "        epoch_targets, epoch_outputs, epoch_preds\n",
    "    )\n",
    "    if eval_id is not None:\n",
    "        score_dict = {f\"{eval_id}_{key}\": val for key, val in score_dict.items()}\n",
    "\n",
    "    model_details = model_path.split(\"/\")[2:]\n",
    "\n",
    "    if verbose:\n",
    "        pprint.pprint(model_details)\n",
    "        pprint.pprint(score_dict)\n",
    "        print(\"\\n\\n\")\n",
    "\n",
    "    return score_dict"
   ]
  },
  {
   "cell_type": "code",
   "execution_count": 12,
   "id": "a726831f-fe5b-4b3c-a8a1-6afe24d14c2a",
   "metadata": {},
   "outputs": [
    {
     "data": {
      "application/vnd.jupyter.widget-view+json": {
       "model_id": "da7b465ffd57497cbe401ef0e29afe33",
       "version_major": 2,
       "version_minor": 0
      },
      "text/plain": [
       "  0%|          | 0/548 [00:00<?, ?it/s]"
      ]
     },
     "metadata": {},
     "output_type": "display_data"
    }
   ],
   "source": [
    "val_results_prostate = {}\n",
    "for model_path in tqdm(best_prostate_models_combined):\n",
    "    model_base_name = \"_\".join(model_path.split(\"/\")[-1].split(\"_\")[3:])\n",
    "    try:\n",
    "        model_base = model_path_to_base[model_base_name]\n",
    "        results = evaluate_prostate_model(\n",
    "            val_loader, model_path, model_base, eval_id=\"val\"\n",
    "        )\n",
    "        val_results_prostate[model_path] = results\n",
    "        del results\n",
    "    except Exception as e:\n",
    "        print(model_path)\n",
    "        print(str(e))"
   ]
  },
  {
   "cell_type": "code",
   "execution_count": 13,
   "id": "44e0d3c4-30fe-4c24-8c16-496b6d0f34f2",
   "metadata": {},
   "outputs": [
    {
     "data": {
      "application/vnd.jupyter.widget-view+json": {
       "model_id": "9c23bc0216e3440cbcc4ef1e615b778d",
       "version_major": 2,
       "version_minor": 0
      },
      "text/plain": [
       "  0%|          | 0/548 [00:00<?, ?it/s]"
      ]
     },
     "metadata": {},
     "output_type": "display_data"
    }
   ],
   "source": [
    "test_results_prostate = {}\n",
    "for model_path in tqdm(best_prostate_models_combined):\n",
    "    model_base_name = \"_\".join(model_path.split(\"/\")[-1].split(\"_\")[3:])\n",
    "    try:\n",
    "        model_base = model_path_to_base[model_base_name]\n",
    "        results = evaluate_prostate_model(\n",
    "            test_loader, model_path, model_base, eval_id=\"test\"\n",
    "        )\n",
    "        test_results_prostate[model_path] = results\n",
    "        del results\n",
    "    except Exception as e:\n",
    "        print(model_path)\n",
    "        print(str(e))"
   ]
  },
  {
   "cell_type": "code",
   "execution_count": 14,
   "id": "343fef66-3151-4bf1-b985-d086c966aa1d",
   "metadata": {},
   "outputs": [
    {
     "data": {
      "application/vnd.jupyter.widget-view+json": {
       "model_id": "00e0345850b84fcf9a5fc2807705ad49",
       "version_major": 2,
       "version_minor": 0
      },
      "text/plain": [
       "  0%|          | 0/548 [00:00<?, ?it/s]"
      ]
     },
     "metadata": {},
     "output_type": "display_data"
    }
   ],
   "source": [
    "test_results_avg_fil_prostate = {}\n",
    "for model_path in tqdm(best_prostate_models_combined):\n",
    "    model_base_name = \"_\".join(model_path.split(\"/\")[-1].split(\"_\")[3:])\n",
    "    try:\n",
    "        model_base = model_path_to_base[model_base_name]\n",
    "        results = evaluate_prostate_model(\n",
    "            test_avg_fil_loader, model_path, model_base, eval_id=\"test_avg_fil\"\n",
    "        )\n",
    "        test_results_avg_fil_prostate[model_path] = results\n",
    "        del results\n",
    "    except Exception as e:\n",
    "        print(model_path)\n",
    "        print(str(e))"
   ]
  },
  {
   "cell_type": "code",
   "execution_count": 15,
   "id": "03f2e763-4511-4ce6-be5a-9c1a514c20ff",
   "metadata": {},
   "outputs": [
    {
     "data": {
      "application/vnd.jupyter.widget-view+json": {
       "model_id": "35fee57ae59046adb3fc8433578efaae",
       "version_major": 2,
       "version_minor": 0
      },
      "text/plain": [
       "  0%|          | 0/548 [00:00<?, ?it/s]"
      ]
     },
     "metadata": {},
     "output_type": "display_data"
    }
   ],
   "source": [
    "test_results_extreme_prostate = {}\n",
    "for model_path in tqdm(best_prostate_models_combined):\n",
    "    model_base_name = \"_\".join(model_path.split(\"/\")[-1].split(\"_\")[3:])\n",
    "    try:\n",
    "        model_base = model_path_to_base[model_base_name]\n",
    "        results = evaluate_prostate_model(\n",
    "            test_extreme_loader, model_path, model_base, eval_id=\"test_extreme\"\n",
    "        )\n",
    "        test_results_extreme_prostate[model_path] = results\n",
    "        del results\n",
    "    except Exception as e:\n",
    "        print(model_path)\n",
    "        print(str(e))"
   ]
  },
  {
   "cell_type": "code",
   "execution_count": 16,
   "id": "46cccea7-b0f0-4e2d-8ea6-d6fd4fc63709",
   "metadata": {},
   "outputs": [
    {
     "data": {
      "application/vnd.jupyter.widget-view+json": {
       "model_id": "f8a787c190be406a938b44185e915da2",
       "version_major": 2,
       "version_minor": 0
      },
      "text/plain": [
       "  0%|          | 0/548 [00:00<?, ?it/s]"
      ]
     },
     "metadata": {},
     "output_type": "display_data"
    }
   ],
   "source": [
    "test_results_extreme_avg_fil_prostate = {}\n",
    "for model_path in tqdm(best_prostate_models_combined):\n",
    "    model_base_name = \"_\".join(model_path.split(\"/\")[-1].split(\"_\")[3:])\n",
    "    try:\n",
    "        model_base = model_path_to_base[model_base_name]\n",
    "        results = evaluate_prostate_model(\n",
    "            test_extreme_avg_fil_loader, model_path, model_base, eval_id=\"test_extreme_avg_fil\"\n",
    "        )\n",
    "        test_results_extreme_avg_fil_prostate[model_path] = results\n",
    "        del results\n",
    "    except Exception as e:\n",
    "        print(model_path)\n",
    "        print(str(e))"
   ]
  },
  {
   "cell_type": "code",
   "execution_count": 17,
   "id": "cd410d55-8ae5-4703-9adb-f39b2c89ef49",
   "metadata": {},
   "outputs": [],
   "source": [
    "prostate_val_df = pd.DataFrame.from_dict(val_results_prostate, orient=\"index\")\n",
    "prostate_test_df = pd.DataFrame.from_dict(test_results_prostate, orient=\"index\")\n",
    "prostate_test_avg_fil_df = pd.DataFrame.from_dict(test_results_avg_fil_prostate, orient=\"index\")\n",
    "prostate_test_extreme_df = pd.DataFrame.from_dict(test_results_extreme_prostate, orient=\"index\")\n",
    "prostate_test_extreme_avg_fil_df = pd.DataFrame.from_dict(test_results_extreme_avg_fil_prostate, orient=\"index\")"
   ]
  },
  {
   "cell_type": "code",
   "execution_count": 18,
   "id": "363f0b91-1c99-4f74-947f-ac23360e1f6f",
   "metadata": {},
   "outputs": [
    {
     "data": {
      "text/html": [
       "<div>\n",
       "<style scoped>\n",
       "    .dataframe tbody tr th:only-of-type {\n",
       "        vertical-align: middle;\n",
       "    }\n",
       "\n",
       "    .dataframe tbody tr th {\n",
       "        vertical-align: top;\n",
       "    }\n",
       "\n",
       "    .dataframe thead th {\n",
       "        text-align: right;\n",
       "    }\n",
       "</style>\n",
       "<table border=\"1\" class=\"dataframe\">\n",
       "  <thead>\n",
       "    <tr style=\"text-align: right;\">\n",
       "      <th></th>\n",
       "      <th>val_score</th>\n",
       "      <th>val_roc_auc</th>\n",
       "      <th>val_auc_chai</th>\n",
       "      <th>val_balanced_accuracy</th>\n",
       "      <th>val_sensitivity</th>\n",
       "      <th>val_sensitivity_recall</th>\n",
       "      <th>val_specificity</th>\n",
       "    </tr>\n",
       "  </thead>\n",
       "  <tbody>\n",
       "    <tr>\n",
       "      <th>../tuning_exp_training_details/pretrained_model_raw_metadata/ProstateCombinedResnet18PretrainedModel_V2_Grid/2023-12-18T00-34-26/fixed_augmentation_less_extreme/[]_frozen/0.0005_starting_learning_rate_0.5_factor/best_val_acc_ProstateCombinedResnet18PretrainedModel_V2_Grid.pt</th>\n",
       "      <td>0.541667</td>\n",
       "      <td>0.565657</td>\n",
       "      <td>0.541667</td>\n",
       "      <td>0.541667</td>\n",
       "      <td>0.083333</td>\n",
       "      <td>0.083333</td>\n",
       "      <td>1.000000</td>\n",
       "    </tr>\n",
       "    <tr>\n",
       "      <th>../tuning_exp_training_details/pretrained_model_raw_metadata/ProstateCombinedResnet18PretrainedModel_V2_Grid/2023-12-18T00-34-26/fixed_augmentation_less_extreme/[]_frozen/0.0005_starting_learning_rate_0.5_factor/best_val_score_ProstateCombinedResnet18PretrainedModel_V2_Grid.pt</th>\n",
       "      <td>0.704545</td>\n",
       "      <td>0.747475</td>\n",
       "      <td>0.704545</td>\n",
       "      <td>0.704545</td>\n",
       "      <td>0.833333</td>\n",
       "      <td>0.833333</td>\n",
       "      <td>0.575758</td>\n",
       "    </tr>\n",
       "    <tr>\n",
       "      <th>../tuning_exp_training_details/pretrained_model_raw_metadata/ProstateCombinedResnet18PretrainedModel_V2_Grid/2023-12-18T00-34-26/fixed_augmentation_less_extreme/[]_frozen/0.01_starting_learning_rate_0.1_factor/best_val_acc_ProstateCombinedResnet18PretrainedModel_V2_Grid.pt</th>\n",
       "      <td>0.583333</td>\n",
       "      <td>0.631313</td>\n",
       "      <td>0.583333</td>\n",
       "      <td>0.583333</td>\n",
       "      <td>0.166667</td>\n",
       "      <td>0.166667</td>\n",
       "      <td>1.000000</td>\n",
       "    </tr>\n",
       "    <tr>\n",
       "      <th>../tuning_exp_training_details/pretrained_model_raw_metadata/ProstateCombinedResnet18PretrainedModel_V2_Grid/2023-12-18T00-34-26/fixed_augmentation_less_extreme/[]_frozen/0.01_starting_learning_rate_0.1_factor/best_val_score_ProstateCombinedResnet18PretrainedModel_V2_Grid.pt</th>\n",
       "      <td>0.606061</td>\n",
       "      <td>0.681818</td>\n",
       "      <td>0.606061</td>\n",
       "      <td>0.606061</td>\n",
       "      <td>1.000000</td>\n",
       "      <td>1.000000</td>\n",
       "      <td>0.212121</td>\n",
       "    </tr>\n",
       "    <tr>\n",
       "      <th>../tuning_exp_training_details/pretrained_model_raw_metadata/ProstateCombinedResnet18PretrainedModel_V2_Grid/2023-12-18T00-34-26/fixed_augmentation_less_extreme/[]_frozen/0.003_starting_learning_rate_0.5_factor/best_val_acc_ProstateCombinedResnet18PretrainedModel_V2_Grid.pt</th>\n",
       "      <td>0.719697</td>\n",
       "      <td>0.797980</td>\n",
       "      <td>0.719697</td>\n",
       "      <td>0.719697</td>\n",
       "      <td>0.500000</td>\n",
       "      <td>0.500000</td>\n",
       "      <td>0.939394</td>\n",
       "    </tr>\n",
       "    <tr>\n",
       "      <th>...</th>\n",
       "      <td>...</td>\n",
       "      <td>...</td>\n",
       "      <td>...</td>\n",
       "      <td>...</td>\n",
       "      <td>...</td>\n",
       "      <td>...</td>\n",
       "      <td>...</td>\n",
       "    </tr>\n",
       "    <tr>\n",
       "      <th>../mega_tuning_exp_training_details/pretrained_model_raw_metadata/ProstateCombinedResnet18PretrainedModel/2023-12-18T20-42-39/limited_augmentation_reduced_loss_bias_16_4/['layer2', 'layer3']_frozen/0.05_starting_learning_rate_0.25_factor_60_patience/best_val_acc_ProstateCombinedResnet18PretrainedModel.pt</th>\n",
       "      <td>0.662879</td>\n",
       "      <td>0.640152</td>\n",
       "      <td>0.662879</td>\n",
       "      <td>0.662879</td>\n",
       "      <td>0.416667</td>\n",
       "      <td>0.416667</td>\n",
       "      <td>0.909091</td>\n",
       "    </tr>\n",
       "    <tr>\n",
       "      <th>../mega_tuning_exp_training_details/pretrained_model_raw_metadata/ProstateCombinedResnet18PretrainedModel/2023-12-18T20-42-39/limited_augmentation_reduced_loss_bias_16_4/['layer2', 'layer3']_frozen/0.01_starting_learning_rate_0.1_factor_60_patience/best_val_score_ProstateCombinedResnet18PretrainedModel.pt</th>\n",
       "      <td>0.674242</td>\n",
       "      <td>0.694444</td>\n",
       "      <td>0.674242</td>\n",
       "      <td>0.674242</td>\n",
       "      <td>0.833333</td>\n",
       "      <td>0.833333</td>\n",
       "      <td>0.515152</td>\n",
       "    </tr>\n",
       "    <tr>\n",
       "      <th>../mega_tuning_exp_training_details/pretrained_model_raw_metadata/ProstateCombinedResnet18PretrainedModel/2023-12-18T20-42-39/limited_augmentation_reduced_loss_bias_16_4/['layer2', 'layer3']_frozen/0.01_starting_learning_rate_0.1_factor_60_patience/best_val_acc_ProstateCombinedResnet18PretrainedModel.pt</th>\n",
       "      <td>0.568182</td>\n",
       "      <td>0.689394</td>\n",
       "      <td>0.568182</td>\n",
       "      <td>0.568182</td>\n",
       "      <td>0.166667</td>\n",
       "      <td>0.166667</td>\n",
       "      <td>0.969697</td>\n",
       "    </tr>\n",
       "    <tr>\n",
       "      <th>../mega_tuning_exp_training_details/pretrained_model_raw_metadata/ProstateCombinedResnet18PretrainedModel/2023-12-18T20-42-39/limited_augmentation_reduced_loss_bias_16_4/['layer2', 'layer3']_frozen/0.01_starting_learning_rate_0.5_factor_30_patience/best_val_score_ProstateCombinedResnet18PretrainedModel.pt</th>\n",
       "      <td>0.715909</td>\n",
       "      <td>0.714646</td>\n",
       "      <td>0.715909</td>\n",
       "      <td>0.715909</td>\n",
       "      <td>0.583333</td>\n",
       "      <td>0.583333</td>\n",
       "      <td>0.848485</td>\n",
       "    </tr>\n",
       "    <tr>\n",
       "      <th>../mega_tuning_exp_training_details/pretrained_model_raw_metadata/ProstateCombinedResnet18PretrainedModel/2023-12-18T20-42-39/limited_augmentation_reduced_loss_bias_16_4/['layer2', 'layer3']_frozen/0.01_starting_learning_rate_0.5_factor_30_patience/best_val_acc_ProstateCombinedResnet18PretrainedModel.pt</th>\n",
       "      <td>0.662879</td>\n",
       "      <td>0.861111</td>\n",
       "      <td>0.662879</td>\n",
       "      <td>0.662879</td>\n",
       "      <td>0.416667</td>\n",
       "      <td>0.416667</td>\n",
       "      <td>0.909091</td>\n",
       "    </tr>\n",
       "  </tbody>\n",
       "</table>\n",
       "<p>548 rows × 7 columns</p>\n",
       "</div>"
      ],
      "text/plain": [
       "                                                    val_score  val_roc_auc  \\\n",
       "../tuning_exp_training_details/pretrained_model...   0.541667     0.565657   \n",
       "../tuning_exp_training_details/pretrained_model...   0.704545     0.747475   \n",
       "../tuning_exp_training_details/pretrained_model...   0.583333     0.631313   \n",
       "../tuning_exp_training_details/pretrained_model...   0.606061     0.681818   \n",
       "../tuning_exp_training_details/pretrained_model...   0.719697     0.797980   \n",
       "...                                                       ...          ...   \n",
       "../mega_tuning_exp_training_details/pretrained_...   0.662879     0.640152   \n",
       "../mega_tuning_exp_training_details/pretrained_...   0.674242     0.694444   \n",
       "../mega_tuning_exp_training_details/pretrained_...   0.568182     0.689394   \n",
       "../mega_tuning_exp_training_details/pretrained_...   0.715909     0.714646   \n",
       "../mega_tuning_exp_training_details/pretrained_...   0.662879     0.861111   \n",
       "\n",
       "                                                    val_auc_chai  \\\n",
       "../tuning_exp_training_details/pretrained_model...      0.541667   \n",
       "../tuning_exp_training_details/pretrained_model...      0.704545   \n",
       "../tuning_exp_training_details/pretrained_model...      0.583333   \n",
       "../tuning_exp_training_details/pretrained_model...      0.606061   \n",
       "../tuning_exp_training_details/pretrained_model...      0.719697   \n",
       "...                                                          ...   \n",
       "../mega_tuning_exp_training_details/pretrained_...      0.662879   \n",
       "../mega_tuning_exp_training_details/pretrained_...      0.674242   \n",
       "../mega_tuning_exp_training_details/pretrained_...      0.568182   \n",
       "../mega_tuning_exp_training_details/pretrained_...      0.715909   \n",
       "../mega_tuning_exp_training_details/pretrained_...      0.662879   \n",
       "\n",
       "                                                    val_balanced_accuracy  \\\n",
       "../tuning_exp_training_details/pretrained_model...               0.541667   \n",
       "../tuning_exp_training_details/pretrained_model...               0.704545   \n",
       "../tuning_exp_training_details/pretrained_model...               0.583333   \n",
       "../tuning_exp_training_details/pretrained_model...               0.606061   \n",
       "../tuning_exp_training_details/pretrained_model...               0.719697   \n",
       "...                                                                   ...   \n",
       "../mega_tuning_exp_training_details/pretrained_...               0.662879   \n",
       "../mega_tuning_exp_training_details/pretrained_...               0.674242   \n",
       "../mega_tuning_exp_training_details/pretrained_...               0.568182   \n",
       "../mega_tuning_exp_training_details/pretrained_...               0.715909   \n",
       "../mega_tuning_exp_training_details/pretrained_...               0.662879   \n",
       "\n",
       "                                                    val_sensitivity  \\\n",
       "../tuning_exp_training_details/pretrained_model...         0.083333   \n",
       "../tuning_exp_training_details/pretrained_model...         0.833333   \n",
       "../tuning_exp_training_details/pretrained_model...         0.166667   \n",
       "../tuning_exp_training_details/pretrained_model...         1.000000   \n",
       "../tuning_exp_training_details/pretrained_model...         0.500000   \n",
       "...                                                             ...   \n",
       "../mega_tuning_exp_training_details/pretrained_...         0.416667   \n",
       "../mega_tuning_exp_training_details/pretrained_...         0.833333   \n",
       "../mega_tuning_exp_training_details/pretrained_...         0.166667   \n",
       "../mega_tuning_exp_training_details/pretrained_...         0.583333   \n",
       "../mega_tuning_exp_training_details/pretrained_...         0.416667   \n",
       "\n",
       "                                                    val_sensitivity_recall  \\\n",
       "../tuning_exp_training_details/pretrained_model...                0.083333   \n",
       "../tuning_exp_training_details/pretrained_model...                0.833333   \n",
       "../tuning_exp_training_details/pretrained_model...                0.166667   \n",
       "../tuning_exp_training_details/pretrained_model...                1.000000   \n",
       "../tuning_exp_training_details/pretrained_model...                0.500000   \n",
       "...                                                                    ...   \n",
       "../mega_tuning_exp_training_details/pretrained_...                0.416667   \n",
       "../mega_tuning_exp_training_details/pretrained_...                0.833333   \n",
       "../mega_tuning_exp_training_details/pretrained_...                0.166667   \n",
       "../mega_tuning_exp_training_details/pretrained_...                0.583333   \n",
       "../mega_tuning_exp_training_details/pretrained_...                0.416667   \n",
       "\n",
       "                                                    val_specificity  \n",
       "../tuning_exp_training_details/pretrained_model...         1.000000  \n",
       "../tuning_exp_training_details/pretrained_model...         0.575758  \n",
       "../tuning_exp_training_details/pretrained_model...         1.000000  \n",
       "../tuning_exp_training_details/pretrained_model...         0.212121  \n",
       "../tuning_exp_training_details/pretrained_model...         0.939394  \n",
       "...                                                             ...  \n",
       "../mega_tuning_exp_training_details/pretrained_...         0.909091  \n",
       "../mega_tuning_exp_training_details/pretrained_...         0.515152  \n",
       "../mega_tuning_exp_training_details/pretrained_...         0.969697  \n",
       "../mega_tuning_exp_training_details/pretrained_...         0.848485  \n",
       "../mega_tuning_exp_training_details/pretrained_...         0.909091  \n",
       "\n",
       "[548 rows x 7 columns]"
      ]
     },
     "execution_count": 18,
     "metadata": {},
     "output_type": "execute_result"
    }
   ],
   "source": [
    "prostate_val_df"
   ]
  },
  {
   "cell_type": "code",
   "execution_count": 19,
   "id": "130b86ec-673b-49f0-b6dd-3a3f6b1522f8",
   "metadata": {},
   "outputs": [
    {
     "data": {
      "text/html": [
       "<div>\n",
       "<style scoped>\n",
       "    .dataframe tbody tr th:only-of-type {\n",
       "        vertical-align: middle;\n",
       "    }\n",
       "\n",
       "    .dataframe tbody tr th {\n",
       "        vertical-align: top;\n",
       "    }\n",
       "\n",
       "    .dataframe thead th {\n",
       "        text-align: right;\n",
       "    }\n",
       "</style>\n",
       "<table border=\"1\" class=\"dataframe\">\n",
       "  <thead>\n",
       "    <tr style=\"text-align: right;\">\n",
       "      <th></th>\n",
       "      <th>test_score</th>\n",
       "      <th>test_roc_auc</th>\n",
       "      <th>test_auc_chai</th>\n",
       "      <th>test_balanced_accuracy</th>\n",
       "      <th>test_sensitivity</th>\n",
       "      <th>test_sensitivity_recall</th>\n",
       "      <th>test_specificity</th>\n",
       "    </tr>\n",
       "  </thead>\n",
       "  <tbody>\n",
       "    <tr>\n",
       "      <th>../tuning_exp_training_details/pretrained_model_raw_metadata/ProstateCombinedResnet18PretrainedModel_V2_Grid/2023-12-18T00-34-26/fixed_augmentation_less_extreme/[]_frozen/0.0005_starting_learning_rate_0.5_factor/best_val_acc_ProstateCombinedResnet18PretrainedModel_V2_Grid.pt</th>\n",
       "      <td>0.500000</td>\n",
       "      <td>0.568182</td>\n",
       "      <td>0.500000</td>\n",
       "      <td>0.500000</td>\n",
       "      <td>0.000000</td>\n",
       "      <td>0.000000</td>\n",
       "      <td>1.000000</td>\n",
       "    </tr>\n",
       "    <tr>\n",
       "      <th>../tuning_exp_training_details/pretrained_model_raw_metadata/ProstateCombinedResnet18PretrainedModel_V2_Grid/2023-12-18T00-34-26/fixed_augmentation_less_extreme/[]_frozen/0.0005_starting_learning_rate_0.5_factor/best_val_score_ProstateCombinedResnet18PretrainedModel_V2_Grid.pt</th>\n",
       "      <td>0.617424</td>\n",
       "      <td>0.689394</td>\n",
       "      <td>0.617424</td>\n",
       "      <td>0.617424</td>\n",
       "      <td>0.750000</td>\n",
       "      <td>0.750000</td>\n",
       "      <td>0.484848</td>\n",
       "    </tr>\n",
       "    <tr>\n",
       "      <th>../tuning_exp_training_details/pretrained_model_raw_metadata/ProstateCombinedResnet18PretrainedModel_V2_Grid/2023-12-18T00-34-26/fixed_augmentation_less_extreme/[]_frozen/0.01_starting_learning_rate_0.1_factor/best_val_acc_ProstateCombinedResnet18PretrainedModel_V2_Grid.pt</th>\n",
       "      <td>0.583333</td>\n",
       "      <td>0.664141</td>\n",
       "      <td>0.583333</td>\n",
       "      <td>0.583333</td>\n",
       "      <td>0.166667</td>\n",
       "      <td>0.166667</td>\n",
       "      <td>1.000000</td>\n",
       "    </tr>\n",
       "    <tr>\n",
       "      <th>../tuning_exp_training_details/pretrained_model_raw_metadata/ProstateCombinedResnet18PretrainedModel_V2_Grid/2023-12-18T00-34-26/fixed_augmentation_less_extreme/[]_frozen/0.01_starting_learning_rate_0.1_factor/best_val_score_ProstateCombinedResnet18PretrainedModel_V2_Grid.pt</th>\n",
       "      <td>0.666667</td>\n",
       "      <td>0.651515</td>\n",
       "      <td>0.666667</td>\n",
       "      <td>0.666667</td>\n",
       "      <td>1.000000</td>\n",
       "      <td>1.000000</td>\n",
       "      <td>0.333333</td>\n",
       "    </tr>\n",
       "    <tr>\n",
       "      <th>../tuning_exp_training_details/pretrained_model_raw_metadata/ProstateCombinedResnet18PretrainedModel_V2_Grid/2023-12-18T00-34-26/fixed_augmentation_less_extreme/[]_frozen/0.003_starting_learning_rate_0.5_factor/best_val_acc_ProstateCombinedResnet18PretrainedModel_V2_Grid.pt</th>\n",
       "      <td>0.678030</td>\n",
       "      <td>0.785354</td>\n",
       "      <td>0.678030</td>\n",
       "      <td>0.678030</td>\n",
       "      <td>0.416667</td>\n",
       "      <td>0.416667</td>\n",
       "      <td>0.939394</td>\n",
       "    </tr>\n",
       "    <tr>\n",
       "      <th>...</th>\n",
       "      <td>...</td>\n",
       "      <td>...</td>\n",
       "      <td>...</td>\n",
       "      <td>...</td>\n",
       "      <td>...</td>\n",
       "      <td>...</td>\n",
       "      <td>...</td>\n",
       "    </tr>\n",
       "    <tr>\n",
       "      <th>../mega_tuning_exp_training_details/pretrained_model_raw_metadata/ProstateCombinedResnet18PretrainedModel/2023-12-18T20-42-39/limited_augmentation_reduced_loss_bias_16_4/['layer2', 'layer3']_frozen/0.05_starting_learning_rate_0.25_factor_60_patience/best_val_acc_ProstateCombinedResnet18PretrainedModel.pt</th>\n",
       "      <td>0.632576</td>\n",
       "      <td>0.672980</td>\n",
       "      <td>0.632576</td>\n",
       "      <td>0.632576</td>\n",
       "      <td>0.416667</td>\n",
       "      <td>0.416667</td>\n",
       "      <td>0.848485</td>\n",
       "    </tr>\n",
       "    <tr>\n",
       "      <th>../mega_tuning_exp_training_details/pretrained_model_raw_metadata/ProstateCombinedResnet18PretrainedModel/2023-12-18T20-42-39/limited_augmentation_reduced_loss_bias_16_4/['layer2', 'layer3']_frozen/0.01_starting_learning_rate_0.1_factor_60_patience/best_val_score_ProstateCombinedResnet18PretrainedModel.pt</th>\n",
       "      <td>0.670455</td>\n",
       "      <td>0.689394</td>\n",
       "      <td>0.670455</td>\n",
       "      <td>0.670455</td>\n",
       "      <td>0.916667</td>\n",
       "      <td>0.916667</td>\n",
       "      <td>0.424242</td>\n",
       "    </tr>\n",
       "    <tr>\n",
       "      <th>../mega_tuning_exp_training_details/pretrained_model_raw_metadata/ProstateCombinedResnet18PretrainedModel/2023-12-18T20-42-39/limited_augmentation_reduced_loss_bias_16_4/['layer2', 'layer3']_frozen/0.01_starting_learning_rate_0.1_factor_60_patience/best_val_acc_ProstateCombinedResnet18PretrainedModel.pt</th>\n",
       "      <td>0.553030</td>\n",
       "      <td>0.684343</td>\n",
       "      <td>0.553030</td>\n",
       "      <td>0.553030</td>\n",
       "      <td>0.166667</td>\n",
       "      <td>0.166667</td>\n",
       "      <td>0.939394</td>\n",
       "    </tr>\n",
       "    <tr>\n",
       "      <th>../mega_tuning_exp_training_details/pretrained_model_raw_metadata/ProstateCombinedResnet18PretrainedModel/2023-12-18T20-42-39/limited_augmentation_reduced_loss_bias_16_4/['layer2', 'layer3']_frozen/0.01_starting_learning_rate_0.5_factor_30_patience/best_val_score_ProstateCombinedResnet18PretrainedModel.pt</th>\n",
       "      <td>0.715909</td>\n",
       "      <td>0.744949</td>\n",
       "      <td>0.715909</td>\n",
       "      <td>0.715909</td>\n",
       "      <td>0.583333</td>\n",
       "      <td>0.583333</td>\n",
       "      <td>0.848485</td>\n",
       "    </tr>\n",
       "    <tr>\n",
       "      <th>../mega_tuning_exp_training_details/pretrained_model_raw_metadata/ProstateCombinedResnet18PretrainedModel/2023-12-18T20-42-39/limited_augmentation_reduced_loss_bias_16_4/['layer2', 'layer3']_frozen/0.01_starting_learning_rate_0.5_factor_30_patience/best_val_acc_ProstateCombinedResnet18PretrainedModel.pt</th>\n",
       "      <td>0.636364</td>\n",
       "      <td>0.823232</td>\n",
       "      <td>0.636364</td>\n",
       "      <td>0.636364</td>\n",
       "      <td>0.333333</td>\n",
       "      <td>0.333333</td>\n",
       "      <td>0.939394</td>\n",
       "    </tr>\n",
       "  </tbody>\n",
       "</table>\n",
       "<p>548 rows × 7 columns</p>\n",
       "</div>"
      ],
      "text/plain": [
       "                                                    test_score  test_roc_auc  \\\n",
       "../tuning_exp_training_details/pretrained_model...    0.500000      0.568182   \n",
       "../tuning_exp_training_details/pretrained_model...    0.617424      0.689394   \n",
       "../tuning_exp_training_details/pretrained_model...    0.583333      0.664141   \n",
       "../tuning_exp_training_details/pretrained_model...    0.666667      0.651515   \n",
       "../tuning_exp_training_details/pretrained_model...    0.678030      0.785354   \n",
       "...                                                        ...           ...   \n",
       "../mega_tuning_exp_training_details/pretrained_...    0.632576      0.672980   \n",
       "../mega_tuning_exp_training_details/pretrained_...    0.670455      0.689394   \n",
       "../mega_tuning_exp_training_details/pretrained_...    0.553030      0.684343   \n",
       "../mega_tuning_exp_training_details/pretrained_...    0.715909      0.744949   \n",
       "../mega_tuning_exp_training_details/pretrained_...    0.636364      0.823232   \n",
       "\n",
       "                                                    test_auc_chai  \\\n",
       "../tuning_exp_training_details/pretrained_model...       0.500000   \n",
       "../tuning_exp_training_details/pretrained_model...       0.617424   \n",
       "../tuning_exp_training_details/pretrained_model...       0.583333   \n",
       "../tuning_exp_training_details/pretrained_model...       0.666667   \n",
       "../tuning_exp_training_details/pretrained_model...       0.678030   \n",
       "...                                                           ...   \n",
       "../mega_tuning_exp_training_details/pretrained_...       0.632576   \n",
       "../mega_tuning_exp_training_details/pretrained_...       0.670455   \n",
       "../mega_tuning_exp_training_details/pretrained_...       0.553030   \n",
       "../mega_tuning_exp_training_details/pretrained_...       0.715909   \n",
       "../mega_tuning_exp_training_details/pretrained_...       0.636364   \n",
       "\n",
       "                                                    test_balanced_accuracy  \\\n",
       "../tuning_exp_training_details/pretrained_model...                0.500000   \n",
       "../tuning_exp_training_details/pretrained_model...                0.617424   \n",
       "../tuning_exp_training_details/pretrained_model...                0.583333   \n",
       "../tuning_exp_training_details/pretrained_model...                0.666667   \n",
       "../tuning_exp_training_details/pretrained_model...                0.678030   \n",
       "...                                                                    ...   \n",
       "../mega_tuning_exp_training_details/pretrained_...                0.632576   \n",
       "../mega_tuning_exp_training_details/pretrained_...                0.670455   \n",
       "../mega_tuning_exp_training_details/pretrained_...                0.553030   \n",
       "../mega_tuning_exp_training_details/pretrained_...                0.715909   \n",
       "../mega_tuning_exp_training_details/pretrained_...                0.636364   \n",
       "\n",
       "                                                    test_sensitivity  \\\n",
       "../tuning_exp_training_details/pretrained_model...          0.000000   \n",
       "../tuning_exp_training_details/pretrained_model...          0.750000   \n",
       "../tuning_exp_training_details/pretrained_model...          0.166667   \n",
       "../tuning_exp_training_details/pretrained_model...          1.000000   \n",
       "../tuning_exp_training_details/pretrained_model...          0.416667   \n",
       "...                                                              ...   \n",
       "../mega_tuning_exp_training_details/pretrained_...          0.416667   \n",
       "../mega_tuning_exp_training_details/pretrained_...          0.916667   \n",
       "../mega_tuning_exp_training_details/pretrained_...          0.166667   \n",
       "../mega_tuning_exp_training_details/pretrained_...          0.583333   \n",
       "../mega_tuning_exp_training_details/pretrained_...          0.333333   \n",
       "\n",
       "                                                    test_sensitivity_recall  \\\n",
       "../tuning_exp_training_details/pretrained_model...                 0.000000   \n",
       "../tuning_exp_training_details/pretrained_model...                 0.750000   \n",
       "../tuning_exp_training_details/pretrained_model...                 0.166667   \n",
       "../tuning_exp_training_details/pretrained_model...                 1.000000   \n",
       "../tuning_exp_training_details/pretrained_model...                 0.416667   \n",
       "...                                                                     ...   \n",
       "../mega_tuning_exp_training_details/pretrained_...                 0.416667   \n",
       "../mega_tuning_exp_training_details/pretrained_...                 0.916667   \n",
       "../mega_tuning_exp_training_details/pretrained_...                 0.166667   \n",
       "../mega_tuning_exp_training_details/pretrained_...                 0.583333   \n",
       "../mega_tuning_exp_training_details/pretrained_...                 0.333333   \n",
       "\n",
       "                                                    test_specificity  \n",
       "../tuning_exp_training_details/pretrained_model...          1.000000  \n",
       "../tuning_exp_training_details/pretrained_model...          0.484848  \n",
       "../tuning_exp_training_details/pretrained_model...          1.000000  \n",
       "../tuning_exp_training_details/pretrained_model...          0.333333  \n",
       "../tuning_exp_training_details/pretrained_model...          0.939394  \n",
       "...                                                              ...  \n",
       "../mega_tuning_exp_training_details/pretrained_...          0.848485  \n",
       "../mega_tuning_exp_training_details/pretrained_...          0.424242  \n",
       "../mega_tuning_exp_training_details/pretrained_...          0.939394  \n",
       "../mega_tuning_exp_training_details/pretrained_...          0.848485  \n",
       "../mega_tuning_exp_training_details/pretrained_...          0.939394  \n",
       "\n",
       "[548 rows x 7 columns]"
      ]
     },
     "execution_count": 19,
     "metadata": {},
     "output_type": "execute_result"
    }
   ],
   "source": [
    "prostate_test_df"
   ]
  },
  {
   "cell_type": "code",
   "execution_count": 20,
   "id": "13a1eb6a-ee5d-41f4-8d7c-e044fa4776c4",
   "metadata": {},
   "outputs": [],
   "source": [
    "prostate_results_df = pd.merge(\n",
    "    prostate_val_df, prostate_test_df, left_index=True, right_index=True\n",
    ")\n",
    "prostate_results_df = pd.merge(\n",
    "    prostate_results_df, prostate_test_avg_fil_df, left_index=True, right_index=True\n",
    ")\n",
    "prostate_results_df = pd.merge(\n",
    "    prostate_results_df, prostate_test_extreme_avg_fil_df, left_index=True, right_index=True\n",
    ")\n",
    "prostate_results_df = pd.merge(\n",
    "    prostate_results_df, prostate_test_extreme_df, left_index=True, right_index=True\n",
    ")"
   ]
  },
  {
   "cell_type": "code",
   "execution_count": 21,
   "id": "2c0ab1ca-2c9c-40f6-830c-dd43969973ae",
   "metadata": {},
   "outputs": [],
   "source": [
    "prostate_results_df.to_csv(\"./2023_1_7_prostate_eval_results.csv\")"
   ]
  },
  {
   "cell_type": "code",
   "execution_count": 22,
   "id": "bda5a52c-3380-4c45-a18e-9e2c5cdada32",
   "metadata": {},
   "outputs": [],
   "source": [
    "prostate_results_df.to_excel(\n",
    "    \"./2023_01_07_prostate_eval_results_mega_eval_results_classification_final.xlsx\",\n",
    "    sheet_name=\"prostate_eval_results\",\n",
    ")"
   ]
  }
 ],
 "metadata": {
  "kernelspec": {
   "display_name": "Python 3 (ipykernel)",
   "language": "python",
   "name": "python3"
  },
  "language_info": {
   "codemirror_mode": {
    "name": "ipython",
    "version": 3
   },
   "file_extension": ".py",
   "mimetype": "text/x-python",
   "name": "python",
   "nbconvert_exporter": "python",
   "pygments_lexer": "ipython3",
   "version": "3.10.6"
  }
 },
 "nbformat": 4,
 "nbformat_minor": 5
}
