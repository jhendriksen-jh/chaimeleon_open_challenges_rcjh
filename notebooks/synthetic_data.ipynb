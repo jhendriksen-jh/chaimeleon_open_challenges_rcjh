{
 "cells": [
  {
   "cell_type": "code",
   "execution_count": 1,
   "metadata": {},
   "outputs": [],
   "source": [
    "import nibabel as nib\n",
    "import numpy as np\n",
    "import random\n",
    "import json\n",
    "import os\n",
    "from tqdm import tqdm\n",
    "synthetic_data_path = \"./synthetic_data/prostate/\""
   ]
  },
  {
   "cell_type": "code",
   "execution_count": 2,
   "metadata": {},
   "outputs": [
    {
     "name": "stderr",
     "output_type": "stream",
     "text": [
      "100%|██████████████████████████████████████████████████████████████████████████████| 5000/5000 [00:13<00:00, 360.31it/s]\n"
     ]
    }
   ],
   "source": [
    "gt_options = [\"Low\", \"High\"]\n",
    "\n",
    "for k in tqdm(range(5000)):\n",
    "    low_metadata_options = [\n",
    "    {'age': random.randint(25, 50),\n",
    "    'histology_type': 'type_1',\n",
    "    'psa': random.randint(20, 80)/10,\n",
    "    'neural_invasion': 'False',\n",
    "    'vascular_invasion': 'False',\n",
    "    'lymphatic_invasion': 'False',},\n",
    "    {'age': random.randint(25, 40),\n",
    "    'histology_type': 'type_1',\n",
    "    'psa': random.randint(20, 80)/10,\n",
    "    'neural_invasion': 'False',\n",
    "    'vascular_invasion': 'False',\n",
    "    'lymphatic_invasion': 'False',},\n",
    "    {'age': random.randint(16, 40),\n",
    "    'histology_type': 'type_2',\n",
    "    'psa': random.randint(10, 80)/10,\n",
    "    'neural_invasion': 'False',\n",
    "    'vascular_invasion': 'True',\n",
    "    'lymphatic_invasion': 'False',},\n",
    "    {'age': random.randint(20, 50),\n",
    "    'histology_type': 'type_3',\n",
    "    'psa': random.randint(20, 80)/10,\n",
    "    'neural_invasion': 'True',\n",
    "    'vascular_invasion': 'False',\n",
    "    'lymphatic_invasion': 'False',}\n",
    "    ]\n",
    "    high_metadata_options = [\n",
    "        {'age': random.randint(30,75),\n",
    "        'histology_type': 'type_4',\n",
    "        'psa': random.randint(60, 130)/10,\n",
    "        'neural_invasion': 'True',\n",
    "        'vascular_invasion': 'True',\n",
    "        'lymphatic_invasion': 'True',},\n",
    "        {'age': random.randint(20,60),\n",
    "        'histology_type': 'type_2',\n",
    "        'psa': random.randint(40, 130)/10,\n",
    "        'neural_invasion': 'True',\n",
    "        'vascular_invasion': 'False',\n",
    "        'lymphatic_invasion': 'True',},\n",
    "        {'age': random.randint(30,55),\n",
    "        'histology_type': 'type_3',\n",
    "        'psa': random.randint(50, 130)/10,\n",
    "        'neural_invasion': 'True',\n",
    "        'vascular_invasion': 'True',\n",
    "        'lymphatic_invasion': 'False',}\n",
    "    ]\n",
    "    low_image = np.zeros((240,240))\n",
    "    low_image[100:200, 100:200] = random.randint(5,20)\n",
    "    low_image[150:200, 150:200] = random.randint(5,20)\n",
    "    high_image = np.zeros((240,240))\n",
    "    high_image[100:200, 100:200] = random.randint(15,25)\n",
    "    high_image[150:200, 150:200] = random.randint(15,25)\n",
    "\n",
    "    case = f\"case_00{k}\"\n",
    "    case_folder = os.path.join(synthetic_data_path, case)\n",
    "    image_path = os.path.join(case_folder, f\"{case}.nii.gz\")\n",
    "    metadata_path = os.path.join(case_folder, f\"{case}.json\")\n",
    "    ground_truth_path = os.path.join(case_folder, f\"{case}_ground_truth.json\")\n",
    "\n",
    "    gt = random.choices(population = gt_options, weights = [0.65, 0.35], k=1)[0]\n",
    "\n",
    "    if gt == \"Low\":\n",
    "        metadata = random.choice(low_metadata_options)\n",
    "        image = low_image\n",
    "        image = nib.Nifti1Image(image, np.eye(4))\n",
    "    if gt == \"High\":\n",
    "        metadata = random.choice(high_metadata_options)\n",
    "        image = high_image\n",
    "        image = nib.Nifti1Image(image, np.eye(4))\n",
    "        \n",
    "    os.makedirs(case_folder, exist_ok=True)\n",
    "    nib.save(image, image_path)\n",
    "    with open(metadata_path, \"w\") as f:\n",
    "        json.dump(metadata, f)\n",
    "    with open(ground_truth_path, \"w\") as f:\n",
    "        json.dump(gt, f)\n"
   ]
  }
 ],
 "metadata": {
  "kernelspec": {
   "display_name": "Python 3 (ipykernel)",
   "language": "python",
   "name": "python3"
  },
  "language_info": {
   "codemirror_mode": {
    "name": "ipython",
    "version": 3
   },
   "file_extension": ".py",
   "mimetype": "text/x-python",
   "name": "python",
   "nbconvert_exporter": "python",
   "pygments_lexer": "ipython3",
   "version": "3.10.6"
  }
 },
 "nbformat": 4,
 "nbformat_minor": 4
}
