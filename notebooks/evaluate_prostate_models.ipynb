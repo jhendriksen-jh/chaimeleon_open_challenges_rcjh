{
 "cells": [
  {
   "cell_type": "code",
   "execution_count": 1,
   "metadata": {},
   "outputs": [],
   "source": [
    "import sys\n",
    "sys.path.append('../')\n",
    "from library.datasets import ProstateCancerDataset\n",
    "from library.train import create_dataloader\n",
    "from entrypoint import prostate_scoring_function\n",
    "import matplotlib.pyplot as plt\n",
    "import torch\n",
    "from library.models import *\n",
    "import random"
   ]
  },
  {
   "cell_type": "code",
   "execution_count": 2,
   "metadata": {},
   "outputs": [],
   "source": [
    "prostate_dir = '../datasets/train_prostate/train/'\n",
    "random_seed = 24042"
   ]
  },
  {
   "cell_type": "code",
   "execution_count": 3,
   "metadata": {},
   "outputs": [],
   "source": [
    "val_dataset = ProstateCancerDataset(\n",
    "                prostate_dir, split_type=\"val\", random_seed=random_seed, input_slice_count=3,\n",
    "            )"
   ]
  },
  {
   "cell_type": "code",
   "execution_count": 4,
   "metadata": {},
   "outputs": [],
   "source": [
    "val_loader = create_dataloader(val_dataset, batch_size=1, shuffle=False)"
   ]
  },
  {
   "cell_type": "code",
   "execution_count": null,
   "metadata": {},
   "outputs": [],
   "source": [
    "test_dataset = ProstateCancerDataset(prostate_dir, split_type=\"test\", random_seed=random_seed, input_slice_count=3)"
   ]
  },
  {
   "cell_type": "code",
   "execution_count": null,
   "metadata": {},
   "outputs": [],
   "source": [
    "test_loader = create_dataloader(test_dataset, batch_size=1, shuffle=False)"
   ]
  },
  {
   "cell_type": "code",
   "execution_count": null,
   "metadata": {},
   "outputs": [],
   "source": [
    "# fig, ax = plt.subplots(figsize = (21,14), nrows=2, ncols=3)\n",
    "\n",
    "# ind = 0\n",
    "# (val_image, _,_,_) = val_dataset[ind]\n",
    "# (test_image, _,_,_) = test_dataset[ind]\n",
    "# for k in range(3):\n",
    "#     ax[0,k].imshow(val_image[k,:,:].numpy().squeeze())\n",
    "#     ax[1,k].imshow(test_image[k,:,:].numpy().squeeze())"
   ]
  },
  {
   "cell_type": "code",
   "execution_count": null,
   "metadata": {},
   "outputs": [],
   "source": [
    "bad_model_acc = ('tuning_exp_training_details/combined_model_raw_metadata/ProstateCombinedModelV1_1Tiny/2023-11-28T02-12-53/'\n",
    "'3_input_slices/0.01_starting_learning_rate/best_val_acc_ProstateCombinedModelV1_1Tiny.pt')\n",
    "bad_model_score = ('tuning_exp_training_details/combined_model_raw_metadata/ProstateCombinedModelV1_1Tiny/2023-11-28T02-12-53/'\n",
    "'3_input_slices/0.01_starting_learning_rate/best_val_score_ProstateCombinedModelV1_1Tiny.pt')\n",
    "better_model_acc = (\"tuning_exp_training_details/pretrained_model_raw_metadata/ProstateCombinedResnet18PretrainedModel/2023-11-27T22-30-46/\"\n",
    "                    \"['layer1', 'layer2', 'layer3', 'layer4']_frozen/0.01_starting_learning_rate/best_val_acc_ProstateCombinedResnet18PretrainedModel.pt\")\n",
    "better_model_score = (\"tuning_exp_training_details/pretrained_model_raw_metadata/ProstateCombinedResnet18PretrainedModel/2023-11-27T22-30-46/\"\n",
    "                    \"['layer1', 'layer2', 'layer3', 'layer4']_frozen/0.01_starting_learning_rate/best_val_score_ProstateCombinedResnet18PretrainedModel.pt\")\n",
    "best_model_score = (\"tuning_exp_training_details/pretrained_model_raw_metadata/ProstateCombinedResnet18PretrainedModel/2023-11-27T22-30-46/\"\n",
    "                    \"[]_frozen/0.01_starting_learning_rate/best_val_score_ProstateCombinedResnet18PretrainedModel.pt\")"
   ]
  },
  {
   "cell_type": "code",
   "execution_count": null,
   "metadata": {},
   "outputs": [],
   "source": [
    "model_list = [\n",
    "    # bad_model_acc, \n",
    "    bad_model_score, \n",
    "    # better_model_acc, \n",
    "    better_model_score,\n",
    "    best_model_score,\n",
    "]\n",
    "\n",
    "### test metadata augmetation\n",
    "\n",
    "model_path_to_model = {\n",
    "    \"ProstateCombinedResnet18PretrainedModel.pt\": ProstateCombinedResnet18PretrainedModel(),\n",
    "    \"1Tiny.pt\": ProstateCombinedModelV1_1Tiny(input_slice_count=3),   \n",
    "}\n",
    "\n",
    "ind = 1\n",
    "random.seed(random_seed)\n",
    "\n",
    "for batch_ind, (val_images, val_metadata, val_targets, case, t, q) in enumerate(val_loader):\n",
    "    val_data = (val_images, val_metadata.squeeze())\n",
    "    if 'case_0279' in case[0]: \n",
    "            break\n",
    "\n",
    "for batch_ind, (test_images, test_metadata, test_targets, case, _, _) in enumerate(test_loader):\n",
    "    test_metadata =test_metadata.squeeze()\n",
    "    for k in range(val_images.shape[0]):\n",
    "        scale_factor = random.choice([0.85, 1.15])\n",
    "        test_metadata[k, 0] *= scale_factor\n",
    "        test_metadata[k, 1] *= scale_factor\n",
    "        test_data = (test_images, test_metadata)\n",
    "    if 'case_0279' in case[0]: \n",
    "            break\n",
    "\n",
    "print('shapes', val_images.shape, val_metadata.shape, val_metadata)\n",
    "for model_path in model_list:\n",
    "    model = model_path_to_model[model_path.split('_')[-1]]\n",
    "    model_state_dict = torch.load(f\"../{model_path}\")\n",
    "    model.load_state_dict(model_state_dict)\n",
    "    model.eval()\n",
    "    val_results = model(val_data)\n",
    "    val_img_test_meta = model((val_data[0], test_data[1]))\n",
    "    test_results = model(test_data)\n",
    "    test_img_val_meta = model((test_data[0], val_data[1]))\n",
    "    model_name = \"_\".join(model_path.split(\"/\")[-3:])\n",
    "    print(f\"{model_name}_results: \\n\\t val_results: \\n\\t\\t{val_results.detach().numpy().tolist()} - \\n\\t\\t{val_results.argmax(dim=1, keepdim=True).detach().numpy().tolist()} \\n\\t \"\n",
    "          f\"val_img_test_meta_results: \\n\\t\\t{val_img_test_meta.detach().numpy().tolist()} - \\n\\t\\t{val_img_test_meta.argmax(dim=1, keepdim=True).detach().numpy().tolist()}\\n\"\n",
    "          f\"test_results: \\n\\t\\t{test_results.detach().numpy().tolist()} - \\n\\t\\t{test_results.argmax(dim=1, keepdim=True).detach().numpy().tolist()}\\n\"\n",
    "            f\"test_img_val_meta: \\n\\t\\t{test_img_val_meta.detach().numpy().tolist()} - \\n\\t\\t{test_img_val_meta.argmax(dim=1, keepdim=True).detach().numpy().tolist()}\\n\")\n",
    "    fig, ax = plt.subplots(nrows=2, ncols=val_images.shape[0])\n",
    "    for k in range(val_images.shape[0]):\n",
    "        img = val_images[k,0,:,:].numpy()\n",
    "        ax[0,k].imshow(img)\n",
    "    ax[0,k].set_title(f\"{model_name}_val - {val_results.argmax(dim=1)}\\n {val_metadata}\")\n",
    "    for k in range(test_images.shape[0]):\n",
    "        img = test_images[k,0,:,:].numpy()\n",
    "        ax[1,k].imshow(img)\n",
    "    ax[1,k].set_title(f\"{model_name}_test - {test_results.argmax(dim=1)}\\n {test_metadata}\")\n",
    "print(val_targets.argmax(dim=1, keepdim=True))"
   ]
  },
  {
   "cell_type": "code",
   "execution_count": null,
   "metadata": {},
   "outputs": [],
   "source": [
    "case"
   ]
  },
  {
   "cell_type": "code",
   "execution_count": null,
   "metadata": {},
   "outputs": [],
   "source": [
    "t['image'].shape"
   ]
  },
  {
   "cell_type": "code",
   "execution_count": null,
   "metadata": {},
   "outputs": [],
   "source": []
  }
 ],
 "metadata": {
  "kernelspec": {
   "display_name": "Python 3 (ipykernel)",
   "language": "python",
   "name": "python3"
  },
  "language_info": {
   "codemirror_mode": {
    "name": "ipython",
    "version": 3
   },
   "file_extension": ".py",
   "mimetype": "text/x-python",
   "name": "python",
   "nbconvert_exporter": "python",
   "pygments_lexer": "ipython3",
   "version": "3.10.6"
  }
 },
 "nbformat": 4,
 "nbformat_minor": 4
}
